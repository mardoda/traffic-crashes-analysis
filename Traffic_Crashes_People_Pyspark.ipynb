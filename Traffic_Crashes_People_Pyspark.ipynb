{
  "nbformat": 4,
  "nbformat_minor": 0,
  "metadata": {
    "colab": {
      "provenance": []
    },
    "kernelspec": {
      "name": "python3",
      "display_name": "Python 3"
    }
  },
  "cells": [
    {
      "cell_type": "markdown",
      "metadata": {
        "id": "kYS-thtyZnyn"
      },
      "source": [
        "# Traffic Crashes - People\n",
        "\n",
        "Analysis of traffic crashes encompassing information of people involved sourced from the Data Portal of the City of Chicago under the Transportation Category.\n",
        "\n",
        "\n",
        "\n",
        "> Source:\n",
        "\n",
        "\n",
        "> https://data.cityofchicago.org/Transportation/Traffic-Crashes-People/u6pd-qa9d\n",
        "\n",
        "\n",
        "### Steps:\n",
        "\n",
        "The following steps will be taken:\n",
        "\n",
        "1.   Java, Spark and Findspark Installation\n",
        "2.   Environment Variables Setup\n",
        "3.   Spark Session Starting\n",
        "4.   Dataset Importing\n",
        "5.   Data Viewing\n",
        "6.   Data Cleaning\n",
        "7.   Data Wrangling\n",
        "8.   Data Analysis\n",
        "9.   More Analysis\n",
        "9.   Conclusion\n"
      ]
    },
    {
      "cell_type": "markdown",
      "metadata": {
        "id": "pZtrgvTo70Po"
      },
      "source": [
        "### 1.  Java, Spark and Findspark Installation\n",
        "\n",
        "\n",
        "Through this step, I am installing Java, Spark and Findspark"
      ]
    },
    {
      "cell_type": "code",
      "metadata": {
        "id": "WFZqktZpsu-4"
      },
      "source": [
        "%%bash\n",
        "apt-get install openjdk-8-jdk-headless -qq > /dev/null\n",
        "[ ! -e \"$(basename spark-2.4.4-bin-hadoop2.7.tgz)\" ] && wget  http://apache.osuosl.org/spark/spark-2.4.4/spark-2.4.4-bin-hadoop2.7.tgz\n",
        "tar xf spark-2.4.4-bin-hadoop2.7.tgz\n",
        "pip install -q findspark"
      ],
      "execution_count": null,
      "outputs": []
    },
    {
      "cell_type": "markdown",
      "metadata": {
        "id": "rEskF6ntGTx_"
      },
      "source": [
        "### 2.   Enviroment Variables Setup\n",
        "\n",
        "Through this step, I am defining the locations where both Java and Spark are to be installed."
      ]
    },
    {
      "cell_type": "code",
      "metadata": {
        "id": "2EC14EIytqCt"
      },
      "source": [
        "import os\n",
        "os.environ[\"JAVA_HOME\"] = \"/usr/lib/jvm/java-8-openjdk-amd64\"\n",
        "os.environ[\"SPARK_HOME\"] = \"/content/spark-2.4.4-bin-hadoop2.7\""
      ],
      "execution_count": null,
      "outputs": []
    },
    {
      "cell_type": "markdown",
      "metadata": {
        "id": "vLJvEAlOGjMD"
      },
      "source": [
        "### 3.   Spark Session Starting\n",
        "\n",
        "Through this step, I am starting my spark session."
      ]
    },
    {
      "cell_type": "code",
      "metadata": {
        "id": "jKWneg4XtvEn"
      },
      "source": [
        "import findspark\n",
        "findspark.init()\n",
        "from pyspark.sql import SparkSession\n",
        "spark = SparkSession.builder.master(\"local[*]\").getOrCreate()"
      ],
      "execution_count": null,
      "outputs": []
    },
    {
      "cell_type": "markdown",
      "metadata": {
        "id": "hlFFwI0fBqyv"
      },
      "source": [
        "### 4.   Dataset Importing\n",
        "\n",
        "\n",
        "Through this step, I am importing and uploading the dataset on the Google Colab sheet."
      ]
    },
    {
      "cell_type": "code",
      "metadata": {
        "id": "NLTi520rt9qr",
        "outputId": "9de9b050-0027-4ab0-a13f-fb073efd6ab6",
        "colab": {
          "resources": {
            "http://localhost:8080/nbextensions/google.colab/files.js": {
              "data": "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",
              "ok": true,
              "headers": [
                [
                  "content-type",
                  "application/javascript"
                ]
              ],
              "status": 200,
              "status_text": ""
            }
          },
          "base_uri": "https://localhost:8080/",
          "height": 71
        }
      },
      "source": [
        "from google.colab import files\n",
        "files.upload()"
      ],
      "execution_count": null,
      "outputs": [
        {
          "output_type": "display_data",
          "data": {
            "text/html": [
              "\n",
              "     <input type=\"file\" id=\"files-0a0b8177-7d43-49a0-959d-7473368c627f\" name=\"files[]\" multiple disabled />\n",
              "     <output id=\"result-0a0b8177-7d43-49a0-959d-7473368c627f\">\n",
              "      Upload widget is only available when the cell has been executed in the\n",
              "      current browser session. Please rerun this cell to enable.\n",
              "      </output>\n",
              "      <script src=\"/nbextensions/google.colab/files.js\"></script> "
            ],
            "text/plain": [
              "<IPython.core.display.HTML object>"
            ]
          },
          "metadata": {
            "tags": []
          }
        },
        {
          "output_type": "stream",
          "text": [
            "Saving Traffic_Crashes_-_People-2.csv to Traffic_Crashes_-_People-2 (1).csv\n"
          ],
          "name": "stdout"
        }
      ]
    },
    {
      "cell_type": "markdown",
      "metadata": {
        "id": "5r5pssrI7pzo"
      },
      "source": [
        "### 5. Data Viewing\n",
        "\n",
        "Through the below steps, I am observing the dataset and deciding what type of analysis I want to implement."
      ]
    },
    {
      "cell_type": "code",
      "metadata": {
        "id": "7x2gTWDBI1bt",
        "outputId": "14db7a9f-8902-47a3-c122-fb965232b7ba",
        "colab": {
          "base_uri": "https://localhost:8080/",
          "height": 68
        }
      },
      "source": [
        "!ls"
      ],
      "execution_count": null,
      "outputs": [
        {
          "output_type": "stream",
          "text": [
            " sample_data\t\t\t'Traffic_Crashes_-_People-2 (1).csv'\n",
            " spark-2.4.4-bin-hadoop2.7\t Traffic_Crashes_-_People-2.csv\n",
            " spark-2.4.4-bin-hadoop2.7.tgz\n"
          ],
          "name": "stdout"
        }
      ]
    },
    {
      "cell_type": "code",
      "metadata": {
        "id": "L8QYdMNMoPIL"
      },
      "source": [
        "dataset = spark.read.csv('Traffic_Crashes_-_People-2.csv',inferSchema=True, header =True)"
      ],
      "execution_count": null,
      "outputs": []
    },
    {
      "cell_type": "code",
      "metadata": {
        "id": "Ceh9SJXHArB3",
        "outputId": "24fe7372-1daa-4fad-f761-8c181e395771",
        "colab": {
          "base_uri": "https://localhost:8080/",
          "height": 510
        }
      },
      "source": [
        "dataset.columns"
      ],
      "execution_count": null,
      "outputs": [
        {
          "output_type": "execute_result",
          "data": {
            "text/plain": [
              "['PERSON_ID',\n",
              " 'PERSON_TYPE',\n",
              " 'RD_NO',\n",
              " 'VEHICLE_ID',\n",
              " 'CRASH_DATE',\n",
              " 'SEAT_NO',\n",
              " 'CITY',\n",
              " 'STATE',\n",
              " 'ZIPCODE',\n",
              " 'SEX',\n",
              " 'AGE',\n",
              " 'DRIVERS_LICENSE_STATE',\n",
              " 'DRIVERS_LICENSE_CLASS',\n",
              " 'SAFETY_EQUIPMENT',\n",
              " 'AIRBAG_DEPLOYED',\n",
              " 'EJECTION',\n",
              " 'INJURY_CLASSIFICATION',\n",
              " 'HOSPITAL',\n",
              " 'EMS_AGENCY',\n",
              " 'EMS_RUN_NO',\n",
              " 'DRIVER_ACTION',\n",
              " 'DRIVER_VISION',\n",
              " 'PHYSICAL_CONDITION',\n",
              " 'PEDPEDAL_ACTION',\n",
              " 'PEDPEDAL_VISIBILITY',\n",
              " 'PEDPEDAL_LOCATION',\n",
              " 'BAC_RESULT',\n",
              " 'BAC_RESULT VALUE',\n",
              " 'CELL_PHONE_USE']"
            ]
          },
          "metadata": {
            "tags": []
          },
          "execution_count": 64
        }
      ]
    },
    {
      "cell_type": "code",
      "metadata": {
        "id": "5gUWT7P6RkFd",
        "outputId": "7e52b113-f712-478b-ed9b-3d475ed31cff",
        "colab": {
          "base_uri": "https://localhost:8080/",
          "height": 510
        }
      },
      "source": [
        "dataset.dtypes"
      ],
      "execution_count": null,
      "outputs": [
        {
          "output_type": "execute_result",
          "data": {
            "text/plain": [
              "[('PERSON_ID', 'string'),\n",
              " ('PERSON_TYPE', 'string'),\n",
              " ('RD_NO', 'string'),\n",
              " ('VEHICLE_ID', 'int'),\n",
              " ('CRASH_DATE', 'string'),\n",
              " ('SEAT_NO', 'int'),\n",
              " ('CITY', 'string'),\n",
              " ('STATE', 'string'),\n",
              " ('ZIPCODE', 'string'),\n",
              " ('SEX', 'string'),\n",
              " ('AGE', 'int'),\n",
              " ('DRIVERS_LICENSE_STATE', 'string'),\n",
              " ('DRIVERS_LICENSE_CLASS', 'string'),\n",
              " ('SAFETY_EQUIPMENT', 'string'),\n",
              " ('AIRBAG_DEPLOYED', 'string'),\n",
              " ('EJECTION', 'string'),\n",
              " ('INJURY_CLASSIFICATION', 'string'),\n",
              " ('HOSPITAL', 'string'),\n",
              " ('EMS_AGENCY', 'string'),\n",
              " ('EMS_RUN_NO', 'string'),\n",
              " ('DRIVER_ACTION', 'string'),\n",
              " ('DRIVER_VISION', 'string'),\n",
              " ('PHYSICAL_CONDITION', 'string'),\n",
              " ('PEDPEDAL_ACTION', 'string'),\n",
              " ('PEDPEDAL_VISIBILITY', 'string'),\n",
              " ('PEDPEDAL_LOCATION', 'string'),\n",
              " ('BAC_RESULT', 'string'),\n",
              " ('BAC_RESULT VALUE', 'double'),\n",
              " ('CELL_PHONE_USE', 'string')]"
            ]
          },
          "metadata": {
            "tags": []
          },
          "execution_count": 69
        }
      ]
    },
    {
      "cell_type": "code",
      "metadata": {
        "id": "Z81mRuFDR1G4",
        "outputId": "c80378b9-27a2-48e5-afa3-5dbacc9c5caa",
        "colab": {
          "base_uri": "https://localhost:8080/",
          "height": 544
        }
      },
      "source": [
        "dataset.printSchema()"
      ],
      "execution_count": null,
      "outputs": [
        {
          "output_type": "stream",
          "text": [
            "root\n",
            " |-- PERSON_ID: string (nullable = true)\n",
            " |-- PERSON_TYPE: string (nullable = true)\n",
            " |-- RD_NO: string (nullable = true)\n",
            " |-- VEHICLE_ID: integer (nullable = true)\n",
            " |-- CRASH_DATE: string (nullable = true)\n",
            " |-- SEAT_NO: integer (nullable = true)\n",
            " |-- CITY: string (nullable = true)\n",
            " |-- STATE: string (nullable = true)\n",
            " |-- ZIPCODE: string (nullable = true)\n",
            " |-- SEX: string (nullable = true)\n",
            " |-- AGE: integer (nullable = true)\n",
            " |-- DRIVERS_LICENSE_STATE: string (nullable = true)\n",
            " |-- DRIVERS_LICENSE_CLASS: string (nullable = true)\n",
            " |-- SAFETY_EQUIPMENT: string (nullable = true)\n",
            " |-- AIRBAG_DEPLOYED: string (nullable = true)\n",
            " |-- EJECTION: string (nullable = true)\n",
            " |-- INJURY_CLASSIFICATION: string (nullable = true)\n",
            " |-- HOSPITAL: string (nullable = true)\n",
            " |-- EMS_AGENCY: string (nullable = true)\n",
            " |-- EMS_RUN_NO: string (nullable = true)\n",
            " |-- DRIVER_ACTION: string (nullable = true)\n",
            " |-- DRIVER_VISION: string (nullable = true)\n",
            " |-- PHYSICAL_CONDITION: string (nullable = true)\n",
            " |-- PEDPEDAL_ACTION: string (nullable = true)\n",
            " |-- PEDPEDAL_VISIBILITY: string (nullable = true)\n",
            " |-- PEDPEDAL_LOCATION: string (nullable = true)\n",
            " |-- BAC_RESULT: string (nullable = true)\n",
            " |-- BAC_RESULT VALUE: double (nullable = true)\n",
            " |-- CELL_PHONE_USE: string (nullable = true)\n",
            "\n"
          ],
          "name": "stdout"
        }
      ]
    },
    {
      "cell_type": "code",
      "metadata": {
        "id": "Mpl6-4x4R-u9",
        "outputId": "7c108ff8-96fc-4681-d868-743c93d236e6",
        "colab": {
          "base_uri": "https://localhost:8080/",
          "height": 479
        }
      },
      "source": [
        "dataset.show()"
      ],
      "execution_count": null,
      "outputs": [
        {
          "output_type": "stream",
          "text": [
            "+---------+-----------+--------+----------+--------------------+-------+-------------+-----+-------+---+----+---------------------+---------------------+----------------+------------------+--------+---------------------+--------+----------+----------+--------------------+-------------+------------------+---------------+-------------------+-----------------+----------------+----------------+--------------+\n",
            "|PERSON_ID|PERSON_TYPE|   RD_NO|VEHICLE_ID|          CRASH_DATE|SEAT_NO|         CITY|STATE|ZIPCODE|SEX| AGE|DRIVERS_LICENSE_STATE|DRIVERS_LICENSE_CLASS|SAFETY_EQUIPMENT|   AIRBAG_DEPLOYED|EJECTION|INJURY_CLASSIFICATION|HOSPITAL|EMS_AGENCY|EMS_RUN_NO|       DRIVER_ACTION|DRIVER_VISION|PHYSICAL_CONDITION|PEDPEDAL_ACTION|PEDPEDAL_VISIBILITY|PEDPEDAL_LOCATION|      BAC_RESULT|BAC_RESULT VALUE|CELL_PHONE_USE|\n",
            "+---------+-----------+--------+----------+--------------------+-------+-------------+-----+-------+---+----+---------------------+---------------------+----------------+------------------+--------+---------------------+--------+----------+----------+--------------------+-------------+------------------+---------------+-------------------+-----------------+----------------+----------------+--------------+\n",
            "|      O10|     DRIVER|HY368708|        10|08/04/2015 12:40:...|   null|      CHICAGO|   IL|  60641|  M|null|                 null|                 null|   USAGE UNKNOWN|    NOT APPLICABLE|    NONE| NO INDICATION OF ...|    null|      null|      null|     FAILED TO YIELD|      UNKNOWN|            NORMAL|           null|               null|             null|TEST NOT OFFERED|            null|          null|\n",
            "|     O100|     DRIVER|HY374018|        96|07/31/2015 05:50:...|   null|    ELK GROVE|   IL|  60007|  M|null|                 null|                 null|SAFETY BELT USED|    DID NOT DEPLOY|    NONE| NO INDICATION OF ...|    null|      null|      null|FOLLOWED TOO CLOSELY|      UNKNOWN|            NORMAL|           null|               null|             null|TEST NOT OFFERED|            null|          null|\n",
            "|    O1000|     DRIVER|HY407431|       954|09/02/2015 11:45:...|   null|      CHICAGO|   IL|   null|  M|  31|                   IL|                    D|   USAGE UNKNOWN|    DID NOT DEPLOY|    NONE| NO INDICATION OF ...|    null|      null|      null|             UNKNOWN|      UNKNOWN|            NORMAL|           null|               null|             null|TEST NOT OFFERED|            null|          null|\n",
            "|   O10000|     DRIVER|HY484148|      9561|10/31/2015 09:30:...|   null|       SKOKIE|   IL|  60076|  M|  29|                   IL|                    D|SAFETY BELT USED|    DID NOT DEPLOY|    NONE| NO INDICATION OF ...|    null|      null|      null|                NONE| NOT OBSCURED|            NORMAL|           null|               null|             null|TEST NOT OFFERED|            null|          null|\n",
            "|  O100001|     DRIVER|HZ525619|     96762|11/15/2016 05:45:...|   null|         null| null|   null|  X|null|                 null|                 null|   USAGE UNKNOWN|DEPLOYMENT UNKNOWN| UNKNOWN| NO INDICATION OF ...|    null|      null|      null|             UNKNOWN|      UNKNOWN|           UNKNOWN|           null|               null|             null|TEST NOT OFFERED|            null|          null|\n",
            "|  O100002|     DRIVER|HZ525619|     96754|11/15/2016 05:45:...|   null|      CHICAGO|   IL|  60619|  F|  63|                 null|                 null|SAFETY BELT USED|    DID NOT DEPLOY|    NONE| NO INDICATION OF ...|    null|      null|      null|                NONE| NOT OBSCURED|            NORMAL|           null|               null|             null|TEST NOT OFFERED|            null|          null|\n",
            "|  O100003|     DRIVER|HZ525629|     96757|11/22/2016 01:45:...|   null|    PARKRIDGE|   IL|   null|  F|  20|                   IL|                    D|   USAGE UNKNOWN|DEPLOYMENT UNKNOWN|    NONE| NO INDICATION OF ...|    null|      null|      null|FOLLOWED TOO CLOSELY| NOT OBSCURED|            NORMAL|           null|               null|             null|TEST NOT OFFERED|            null|          null|\n",
            "|  O100004|     DRIVER|HZ525629|     96755|11/22/2016 01:45:...|   null|      CHICAGO|   IL|  60646|  M|  18|                   IL|                    D|SAFETY BELT USED|    DID NOT DEPLOY|    NONE| NO INDICATION OF ...| REFUSED|      null|      null|                NONE| NOT OBSCURED|            NORMAL|           null|               null|             null|TEST NOT OFFERED|            null|          null|\n",
            "|  O100005|     DRIVER|HZ525606|     96759|11/19/2016 06:35:...|   null|BUFFALO GROVE|   IL|  60089|  F|  30|                   IL|                 null|   USAGE UNKNOWN|    DID NOT DEPLOY|    NONE| NO INDICATION OF ...|    null|      null|      null|IMPROPER LANE CHANGE|      UNKNOWN|           UNKNOWN|           null|               null|             null|TEST NOT OFFERED|            null|          null|\n",
            "|  O100006|     DRIVER|HZ525606|     96760|11/19/2016 06:35:...|   null|      CHICAGO|   IL|  60625|  M|  50|                   IL|                    D|SAFETY BELT USED|    DID NOT DEPLOY|    NONE| NO INDICATION OF ...|    null|      null|      null|                NONE| NOT OBSCURED|            NORMAL|           null|               null|             null|TEST NOT OFFERED|            null|          null|\n",
            "|  O100007|     DRIVER|HZ525655|     96763|11/17/2016 11:30:...|   null|         null| null|   null|  X|null|                 null|                 null|   USAGE UNKNOWN|DEPLOYMENT UNKNOWN| UNKNOWN| NO INDICATION OF ...|    null|      null|      null|             UNKNOWN|      UNKNOWN|           UNKNOWN|           null|               null|             null|TEST NOT OFFERED|            null|          null|\n",
            "|  O100009|     DRIVER|HZ525664|     96768|11/22/2016 04:00:...|   null|      CHICAGO|   IL|  60614|  M|  30|                   IL|                    D|SAFETY BELT USED|    DID NOT DEPLOY|    NONE| NO INDICATION OF ...|    null|      null|      null|FOLLOWED TOO CLOSELY|      UNKNOWN|           UNKNOWN|           null|               null|             null|TEST NOT OFFERED|            null|          null|\n",
            "|   O10001|     DRIVER|HY484182|      9562|10/31/2015 10:15:...|   null|      CHICAGO|   IL|  60641|  F|  20|                   IL|                    D|   USAGE UNKNOWN|    DID NOT DEPLOY|    NONE| NO INDICATION OF ...|    null|      null|      null|             UNKNOWN|      UNKNOWN|           UNKNOWN|           null|               null|             null|TEST NOT OFFERED|            null|          null|\n",
            "|  O100010|     DRIVER|HZ525664|     96770|11/22/2016 04:00:...|   null|      CHICAGO|   IL|  60622|  M|  33|                   CO|                    R|SAFETY BELT USED|    DID NOT DEPLOY|    NONE| NO INDICATION OF ...|    null|      null|      null|                NONE| NOT OBSCURED|            NORMAL|           null|               null|             null|TEST NOT OFFERED|            null|          null|\n",
            "|  O100011|     DRIVER|HZ525684|     96775|11/22/2016 02:45:...|   null|      CHICAGO|   IL|  60640|  M|null|                 null|                 null|   USAGE UNKNOWN|    DID NOT DEPLOY|    NONE| NO INDICATION OF ...|    null|      null|      null|FOLLOWED TOO CLOSELY| NOT OBSCURED|            NORMAL|           null|               null|             null|TEST NOT OFFERED|            null|          null|\n",
            "|  O100012|     DRIVER|HZ525684|     96780|11/22/2016 02:45:...|   null|      CHICAGO|   IL|  60636|  M|  46|                   IL|                    D|   USAGE UNKNOWN|    DID NOT DEPLOY|    NONE| NO INDICATION OF ...|    null|      null|      null|                NONE| NOT OBSCURED|            NORMAL|           null|               null|             null|TEST NOT OFFERED|            null|          null|\n",
            "|  O100013|     DRIVER|HZ525690|     96771|11/22/2016 06:00:...|   null|      CHICAGO|   IL|  60629|  M|  20|                   IL|                    D|SAFETY BELT USED|    DID NOT DEPLOY|    NONE| NO INDICATION OF ...|    null|      null|      null|     FAILED TO YIELD| NOT OBSCURED|            NORMAL|           null|               null|             null|TEST NOT OFFERED|            null|          null|\n",
            "|  O100014|     DRIVER|HZ525690|     96777|11/22/2016 06:00:...|   null|         null| null|   null|  M|null|                 null|                 null|SAFETY BELT USED|    DID NOT DEPLOY|    NONE| NO INDICATION OF ...|    null|      null|      null|                NONE| NOT OBSCURED|            NORMAL|           null|               null|             null|TEST NOT OFFERED|            null|          null|\n",
            "|  O100015|     DRIVER|HZ525688|     96773|11/22/2016 05:40:...|   null|     EVANSTON|   IL|  60202|  M|  65|                   IL|                    D|SAFETY BELT USED|    DID NOT DEPLOY|    NONE| NO INDICATION OF ...|    null|      null|      null|     FAILED TO YIELD| NOT OBSCURED|            NORMAL|           null|               null|             null|TEST NOT OFFERED|            null|          null|\n",
            "|  O100016|     DRIVER|HZ525688|     96776|11/22/2016 05:40:...|   null|      CHICAGO|   IL|  60618|  M|  54|                   IL|                    D|SAFETY BELT USED|    DID NOT DEPLOY|    NONE| NO INDICATION OF ...|    null|      null|      null|                NONE| NOT OBSCURED|            NORMAL|           null|               null|             null|TEST NOT OFFERED|            null|          null|\n",
            "+---------+-----------+--------+----------+--------------------+-------+-------------+-----+-------+---+----+---------------------+---------------------+----------------+------------------+--------+---------------------+--------+----------+----------+--------------------+-------------+------------------+---------------+-------------------+-----------------+----------------+----------------+--------------+\n",
            "only showing top 20 rows\n",
            "\n"
          ],
          "name": "stdout"
        }
      ]
    },
    {
      "cell_type": "markdown",
      "metadata": {
        "id": "__bSi7o2QMbp"
      },
      "source": [
        "### 6. Data Cleaning\n",
        "\n",
        "Through the below steps, I am examining the dataset and performing necessary cleaning tasks.\n",
        "First, I am removing the columns that will not be utilized to conduct the analysis. Second, I am dropping rows that contain NaN or null values. Third, I am converting uppercase titles into lowercase tittles. In addition, I am removing duplicates."
      ]
    },
    {
      "cell_type": "code",
      "metadata": {
        "id": "ZNLsfVFdC1DF",
        "outputId": "939c488e-9667-46df-e845-eb35f3526d89",
        "colab": {
          "base_uri": "https://localhost:8080/",
          "height": 34
        }
      },
      "source": [
        "columns_to_drop = ['PERSON_ID','RD_NO','VEHICLE_ID','SEAT_NO','SAFETY_EQUIPMENT','DRIVERS_LICENSE_CLASS','AIRBAG_DEPLOYED','EJECTION','INJURY_CLASSIFICATION','HOSPITAL','EMS_AGENCY','EMS_RUN_NO','PEDPEDAL_ACTION','PEDPEDAL_VISIBILITY','PEDPEDAL_LOCATION','BAC_RESULT','BAC_RESULT VALUE','CELL_PHONE_USE']\n",
        "cleanedDataset = dataset.drop(*columns_to_drop)\n",
        "print(cleanedDataset.columns)"
      ],
      "execution_count": null,
      "outputs": [
        {
          "output_type": "stream",
          "text": [
            "['PERSON_TYPE', 'CRASH_DATE', 'CITY', 'STATE', 'ZIPCODE', 'SEX', 'AGE', 'DRIVERS_LICENSE_STATE', 'DRIVER_ACTION', 'DRIVER_VISION', 'PHYSICAL_CONDITION']\n"
          ],
          "name": "stdout"
        }
      ]
    },
    {
      "cell_type": "code",
      "metadata": {
        "id": "PX0y1e_fnNsx",
        "outputId": "b0c3d3b6-8b8e-47f3-f3dd-b412de40b976",
        "colab": {
          "base_uri": "https://localhost:8080/",
          "height": 34
        }
      },
      "source": [
        "cleanedDataset.dropna().count()"
      ],
      "execution_count": null,
      "outputs": [
        {
          "output_type": "execute_result",
          "data": {
            "text/plain": [
              "402162"
            ]
          },
          "metadata": {
            "tags": []
          },
          "execution_count": 77
        }
      ]
    },
    {
      "cell_type": "code",
      "metadata": {
        "id": "Cmz7ZWQkE71y"
      },
      "source": [
        "cleanedDataset = cleanedDataset.dropna(how='any', subset=None)"
      ],
      "execution_count": null,
      "outputs": []
    },
    {
      "cell_type": "code",
      "metadata": {
        "id": "Ak33R4xWGPSZ",
        "outputId": "ecdb79a6-c2aa-44eb-8f84-da9bcfe799bc",
        "colab": {
          "base_uri": "https://localhost:8080/",
          "height": 54
        }
      },
      "source": [
        "display(cleanedDataset)"
      ],
      "execution_count": null,
      "outputs": [
        {
          "output_type": "display_data",
          "data": {
            "text/plain": [
              "DataFrame[PERSON_TYPE: string, CRASH_DATE: string, CITY: string, STATE: string, ZIPCODE: string, SEX: string, AGE: int, DRIVERS_LICENSE_STATE: string, DRIVER_ACTION: string, DRIVER_VISION: string, PHYSICAL_CONDITION: string]"
            ]
          },
          "metadata": {
            "tags": []
          }
        }
      ]
    },
    {
      "cell_type": "code",
      "metadata": {
        "id": "ANaCfhSqJnB9",
        "outputId": "0c856479-381b-4eb0-db62-465152356eaf",
        "colab": {
          "base_uri": "https://localhost:8080/",
          "height": 204
        }
      },
      "source": [
        "for col in cleanedDataset.columns:\n",
        "  cleanedDataset = cleanedDataset.withColumnRenamed(col, col.lower())\n",
        "display(cleanedDataset.columns)"
      ],
      "execution_count": null,
      "outputs": [
        {
          "output_type": "display_data",
          "data": {
            "text/plain": [
              "['person_type',\n",
              " 'crash_date',\n",
              " 'city',\n",
              " 'state',\n",
              " 'zipcode',\n",
              " 'sex',\n",
              " 'age',\n",
              " 'drivers_license_state',\n",
              " 'driver_action',\n",
              " 'driver_vision',\n",
              " 'physical_condition']"
            ]
          },
          "metadata": {
            "tags": []
          }
        }
      ]
    },
    {
      "cell_type": "code",
      "metadata": {
        "id": "NSjtpudlLj_r",
        "outputId": "a6519c13-426b-4d58-f256-993d5947d88f",
        "colab": {
          "base_uri": "https://localhost:8080/",
          "height": 54
        }
      },
      "source": [
        "cleanedDataset = cleanedDataset.dropDuplicates()\n",
        "display(cleanedDataset)"
      ],
      "execution_count": null,
      "outputs": [
        {
          "output_type": "display_data",
          "data": {
            "text/plain": [
              "DataFrame[person_type: string, crash_date: string, city: string, state: string, zipcode: string, sex: string, age: int, drivers_license_state: string, driver_action: string, driver_vision: string, physical_condition: string]"
            ]
          },
          "metadata": {
            "tags": []
          }
        }
      ]
    },
    {
      "cell_type": "markdown",
      "metadata": {
        "id": "rqcjEGL7SuuG"
      },
      "source": [
        "### 7.   Data Wrangling\n",
        "\n",
        "Through the below steps, I am changing crash_date format to show only MM/dd/yyyy and I am filtering the age comlumn to show values that range from 16 and up because according to the United States law one must be 16 years old to obtain a Driving Lincense. In addition, I am adding a column displaying only the year (yyyy) to facilitate my analysis."
      ]
    },
    {
      "cell_type": "code",
      "metadata": {
        "id": "dKudVHt2UhzJ"
      },
      "source": [
        "from pyspark.sql.functions import to_date\n",
        "cleanedDataset = cleanedDataset.withColumn('crash_date', to_date(cleanedDataset.crash_date, 'MM/dd/yyyy'))"
      ],
      "execution_count": null,
      "outputs": []
    },
    {
      "cell_type": "code",
      "metadata": {
        "id": "xOD18LFuVywf",
        "outputId": "0c3c70f3-4049-4bc7-faf4-680b84b64c6a",
        "colab": {
          "base_uri": "https://localhost:8080/",
          "height": 459
        }
      },
      "source": [
        "cleanedDataset.select([\"crash_date\"]).show(20)"
      ],
      "execution_count": null,
      "outputs": [
        {
          "output_type": "stream",
          "text": [
            "+----------+\n",
            "|crash_date|\n",
            "+----------+\n",
            "|2016-11-22|\n",
            "|2016-11-23|\n",
            "|2016-11-25|\n",
            "|2016-11-24|\n",
            "|2016-11-25|\n",
            "|2016-11-18|\n",
            "|2016-11-29|\n",
            "|2016-11-29|\n",
            "|2016-12-02|\n",
            "|2016-12-03|\n",
            "|2016-12-04|\n",
            "|2016-12-05|\n",
            "|2016-12-05|\n",
            "|2016-12-05|\n",
            "|2016-12-06|\n",
            "|2016-12-06|\n",
            "|2016-12-07|\n",
            "|2016-12-07|\n",
            "|2016-12-09|\n",
            "|2016-12-09|\n",
            "+----------+\n",
            "only showing top 20 rows\n",
            "\n"
          ],
          "name": "stdout"
        }
      ]
    },
    {
      "cell_type": "code",
      "metadata": {
        "id": "5vzNd6ejW4IW",
        "outputId": "39d878dd-ffc3-45d1-99b1-8698e4a5f2c9",
        "colab": {
          "base_uri": "https://localhost:8080/",
          "height": 459
        }
      },
      "source": [
        "cleanedDataset = cleanedDataset.filter(cleanedDataset['age']>=16)\n",
        "cleanedDataset.show()"
      ],
      "execution_count": null,
      "outputs": [
        {
          "output_type": "stream",
          "text": [
            "+-----------+----------+------------+-----+-------+---+---+---------------------+--------------------+-------------+------------------+\n",
            "|person_type|crash_date|        city|state|zipcode|sex|age|drivers_license_state|       driver_action|driver_vision|physical_condition|\n",
            "+-----------+----------+------------+-----+-------+---+---+---------------------+--------------------+-------------+------------------+\n",
            "|     DRIVER|2016-11-22|       ALSIP|   IL|  60803|  F| 39|                   IL|                NONE| NOT OBSCURED|            NORMAL|\n",
            "|     DRIVER|2016-11-23|     CHICAGO|   IL|  60637|  M| 43|                   IL|               OTHER| NOT OBSCURED|            NORMAL|\n",
            "|     DRIVER|2016-11-25|     CHICAGO|   IL|  60634|  M| 30|                   IL|     FAILED TO YIELD|      UNKNOWN|            NORMAL|\n",
            "|     DRIVER|2016-11-24|     CHICAGO|   IL|  60643|  M| 21|                   IL|             UNKNOWN|      UNKNOWN|           UNKNOWN|\n",
            "|     DRIVER|2016-11-25|  DES MOINES|   IA|  50315|  F| 26|                   IA|                NONE| NOT OBSCURED|            NORMAL|\n",
            "|     DRIVER|2016-11-18|  CREST HILL|   IL|  60403|  F| 20|                   IL|    IMPROPER BACKING|      UNKNOWN|           UNKNOWN|\n",
            "|     DRIVER|2016-11-29|  BROOKFIELD|   IL|  60513|  M| 27|                   IL|                NONE|      UNKNOWN|            NORMAL|\n",
            "|     DRIVER|2016-11-29|     CHICAGO|   IL|  60657|  M| 33|                   SC|                NONE| NOT OBSCURED|            NORMAL|\n",
            "|     DRIVER|2016-12-02|     CHICAGO|   IL|  60620|  M| 78|                   IL|               OTHER| NOT OBSCURED|            NORMAL|\n",
            "|     DRIVER|2016-12-03|     CHICAGO|   IL|  60614|  F| 32|                   IL|               OTHER| NOT OBSCURED|            NORMAL|\n",
            "|     DRIVER|2016-12-04|     CHICAGO|   IL|  60642|  M| 31|                   IL|                NONE| NOT OBSCURED|            NORMAL|\n",
            "|     DRIVER|2016-12-05|     CHICAGO|   IL|  60628|  M| 27|                   IL|TOO FAST FOR COND...| NOT OBSCURED|           UNKNOWN|\n",
            "|     DRIVER|2016-12-05|    EVANSTON|   IL|  60203|  F| 40|                   IL|             UNKNOWN|TREES, PLANTS|            NORMAL|\n",
            "|     DRIVER|2016-12-05|     CHICAGO|   IL|  60659|  M| 56|                   IL|                NONE| NOT OBSCURED|            NORMAL|\n",
            "|     DRIVER|2016-12-06|CALUMET CITY|   IL|  60409|  M| 66|                   IL|                NONE| NOT OBSCURED|            NORMAL|\n",
            "|     DRIVER|2016-12-06|     CHICAGO|   IL|  60625|  M| 27|                   IL|                NONE| NOT OBSCURED|            NORMAL|\n",
            "|     DRIVER|2016-12-07|  PLAINFIELD|   IL|  60586|  M| 42|                   IL|               OTHER| NOT OBSCURED|            NORMAL|\n",
            "|     DRIVER|2016-12-07|     CHICAGO|   IL|  60659|  M| 24|                   MO|     FAILED TO YIELD| NOT OBSCURED|            NORMAL|\n",
            "|     DRIVER|2016-12-09|      SUMMIT|   IL|  60501|  M| 50|                   IL|               OTHER| NOT OBSCURED|            NORMAL|\n",
            "|     DRIVER|2016-12-09|     CHICAGO|   IL|  60641|  F| 46|                   IL|FOLLOWED TOO CLOSELY| NOT OBSCURED|            NORMAL|\n",
            "+-----------+----------+------------+-----+-------+---+---+---------------------+--------------------+-------------+------------------+\n",
            "only showing top 20 rows\n",
            "\n"
          ],
          "name": "stdout"
        }
      ]
    },
    {
      "cell_type": "code",
      "metadata": {
        "id": "o79tq_jAtT_U",
        "outputId": "b6bfb2b5-dadc-45cc-f9e4-476920e7e554",
        "colab": {
          "base_uri": "https://localhost:8080/",
          "height": 459
        }
      },
      "source": [
        "import datetime\n",
        "from pyspark.sql.functions import year\n",
        "cleanedDataset = cleanedDataset.withColumn(\"year\", year(cleanedDataset['crash_date']))\n",
        "cleanedDataset.show()"
      ],
      "execution_count": null,
      "outputs": [
        {
          "output_type": "stream",
          "text": [
            "+-----------+----------+------------+-----+-------+---+---+---------------------+--------------------+-------------+------------------+----+\n",
            "|person_type|crash_date|        city|state|zipcode|sex|age|drivers_license_state|       driver_action|driver_vision|physical_condition|year|\n",
            "+-----------+----------+------------+-----+-------+---+---+---------------------+--------------------+-------------+------------------+----+\n",
            "|     DRIVER|2016-11-22|       ALSIP|   IL|  60803|  F| 39|                   IL|                NONE| NOT OBSCURED|            NORMAL|2016|\n",
            "|     DRIVER|2016-11-23|     CHICAGO|   IL|  60637|  M| 43|                   IL|               OTHER| NOT OBSCURED|            NORMAL|2016|\n",
            "|     DRIVER|2016-11-25|     CHICAGO|   IL|  60634|  M| 30|                   IL|     FAILED TO YIELD|      UNKNOWN|            NORMAL|2016|\n",
            "|     DRIVER|2016-11-24|     CHICAGO|   IL|  60643|  M| 21|                   IL|             UNKNOWN|      UNKNOWN|           UNKNOWN|2016|\n",
            "|     DRIVER|2016-11-25|  DES MOINES|   IA|  50315|  F| 26|                   IA|                NONE| NOT OBSCURED|            NORMAL|2016|\n",
            "|     DRIVER|2016-11-18|  CREST HILL|   IL|  60403|  F| 20|                   IL|    IMPROPER BACKING|      UNKNOWN|           UNKNOWN|2016|\n",
            "|     DRIVER|2016-11-29|  BROOKFIELD|   IL|  60513|  M| 27|                   IL|                NONE|      UNKNOWN|            NORMAL|2016|\n",
            "|     DRIVER|2016-11-29|     CHICAGO|   IL|  60657|  M| 33|                   SC|                NONE| NOT OBSCURED|            NORMAL|2016|\n",
            "|     DRIVER|2016-12-02|     CHICAGO|   IL|  60620|  M| 78|                   IL|               OTHER| NOT OBSCURED|            NORMAL|2016|\n",
            "|     DRIVER|2016-12-03|     CHICAGO|   IL|  60614|  F| 32|                   IL|               OTHER| NOT OBSCURED|            NORMAL|2016|\n",
            "|     DRIVER|2016-12-04|     CHICAGO|   IL|  60642|  M| 31|                   IL|                NONE| NOT OBSCURED|            NORMAL|2016|\n",
            "|     DRIVER|2016-12-05|     CHICAGO|   IL|  60628|  M| 27|                   IL|TOO FAST FOR COND...| NOT OBSCURED|           UNKNOWN|2016|\n",
            "|     DRIVER|2016-12-05|    EVANSTON|   IL|  60203|  F| 40|                   IL|             UNKNOWN|TREES, PLANTS|            NORMAL|2016|\n",
            "|     DRIVER|2016-12-05|     CHICAGO|   IL|  60659|  M| 56|                   IL|                NONE| NOT OBSCURED|            NORMAL|2016|\n",
            "|     DRIVER|2016-12-06|CALUMET CITY|   IL|  60409|  M| 66|                   IL|                NONE| NOT OBSCURED|            NORMAL|2016|\n",
            "|     DRIVER|2016-12-06|     CHICAGO|   IL|  60625|  M| 27|                   IL|                NONE| NOT OBSCURED|            NORMAL|2016|\n",
            "|     DRIVER|2016-12-07|  PLAINFIELD|   IL|  60586|  M| 42|                   IL|               OTHER| NOT OBSCURED|            NORMAL|2016|\n",
            "|     DRIVER|2016-12-07|     CHICAGO|   IL|  60659|  M| 24|                   MO|     FAILED TO YIELD| NOT OBSCURED|            NORMAL|2016|\n",
            "|     DRIVER|2016-12-09|      SUMMIT|   IL|  60501|  M| 50|                   IL|               OTHER| NOT OBSCURED|            NORMAL|2016|\n",
            "|     DRIVER|2016-12-09|     CHICAGO|   IL|  60641|  F| 46|                   IL|FOLLOWED TOO CLOSELY| NOT OBSCURED|            NORMAL|2016|\n",
            "+-----------+----------+------------+-----+-------+---+---+---------------------+--------------------+-------------+------------------+----+\n",
            "only showing top 20 rows\n",
            "\n"
          ],
          "name": "stdout"
        }
      ]
    },
    {
      "cell_type": "markdown",
      "metadata": {
        "id": "nJQF4YdnVF94"
      },
      "source": [
        "### 8.   Data Analysis\n",
        "\n",
        "Through the below steps, I am focusing only on crashes involving female and male drivers, therefore I will be dropping rows containg other values sush as passangers, animals, U and X driver under the person_type column. Then, I will identify the number of crashes involving female and male drivers at different ages. Lastly, I will identify what years there have been more crashes.\n"
      ]
    },
    {
      "cell_type": "code",
      "metadata": {
        "id": "ikpuJDilaUk2",
        "outputId": "2cce80cd-0164-4c64-f11e-0c5970d00c59",
        "colab": {
          "base_uri": "https://localhost:8080/",
          "height": 170
        }
      },
      "source": [
        "cleanedDataset.groupBy('sex').count().show()"
      ],
      "execution_count": null,
      "outputs": [
        {
          "output_type": "stream",
          "text": [
            "+---+------+\n",
            "|sex| count|\n",
            "+---+------+\n",
            "|  F|160290|\n",
            "|  M|237000|\n",
            "|  U|    21|\n",
            "|  X|   281|\n",
            "+---+------+\n",
            "\n"
          ],
          "name": "stdout"
        }
      ]
    },
    {
      "cell_type": "code",
      "metadata": {
        "id": "Zd4bYigpamWj",
        "outputId": "01f75cf5-85a0-4ba0-8511-54585f2f95d8",
        "colab": {
          "base_uri": "https://localhost:8080/",
          "height": 136
        }
      },
      "source": [
        "cleanedDataset = cleanedDataset.filter(\"sex == 'M' or sex == 'F' \")\n",
        "cleanedDataset.groupBy('sex').count().show()"
      ],
      "execution_count": null,
      "outputs": [
        {
          "output_type": "stream",
          "text": [
            "+---+------+\n",
            "|sex| count|\n",
            "+---+------+\n",
            "|  F|160290|\n",
            "|  M|237000|\n",
            "+---+------+\n",
            "\n"
          ],
          "name": "stdout"
        }
      ]
    },
    {
      "cell_type": "code",
      "metadata": {
        "id": "hHOOJIe5f_wS",
        "outputId": "8027d23e-421f-4b7a-a5f8-fcb948c986e4",
        "colab": {
          "base_uri": "https://localhost:8080/",
          "height": 459
        }
      },
      "source": [
        "cleanedDataset.filter(\"sex =='M'\").groupBy('age').count().sort(\"age\").show()"
      ],
      "execution_count": null,
      "outputs": [
        {
          "output_type": "stream",
          "text": [
            "+---+-----+\n",
            "|age|count|\n",
            "+---+-----+\n",
            "| 16|  472|\n",
            "| 17| 1364|\n",
            "| 18| 2543|\n",
            "| 19| 3077|\n",
            "| 20| 3665|\n",
            "| 21| 4405|\n",
            "| 22| 5087|\n",
            "| 23| 5633|\n",
            "| 24| 6119|\n",
            "| 25| 6472|\n",
            "| 26| 6428|\n",
            "| 27| 6738|\n",
            "| 28| 6460|\n",
            "| 29| 6217|\n",
            "| 30| 6009|\n",
            "| 31| 5847|\n",
            "| 32| 5636|\n",
            "| 33| 5568|\n",
            "| 34| 5310|\n",
            "| 35| 5378|\n",
            "+---+-----+\n",
            "only showing top 20 rows\n",
            "\n"
          ],
          "name": "stdout"
        }
      ]
    },
    {
      "cell_type": "code",
      "metadata": {
        "id": "Dz5ouo69jULG",
        "outputId": "00f7ae51-e893-490d-fceb-ef9e6adfd260",
        "colab": {
          "base_uri": "https://localhost:8080/",
          "height": 459
        }
      },
      "source": [
        "cleanedDataset.filter(\"sex =='F'\").groupBy('age').count().sort(\"age\").show()"
      ],
      "execution_count": null,
      "outputs": [
        {
          "output_type": "stream",
          "text": [
            "+---+-----+\n",
            "|age|count|\n",
            "+---+-----+\n",
            "| 16|  422|\n",
            "| 17| 1057|\n",
            "| 18| 1844|\n",
            "| 19| 2226|\n",
            "| 20| 2812|\n",
            "| 21| 3438|\n",
            "| 22| 3996|\n",
            "| 23| 4712|\n",
            "| 24| 5179|\n",
            "| 25| 5313|\n",
            "| 26| 5282|\n",
            "| 27| 5190|\n",
            "| 28| 5003|\n",
            "| 29| 4849|\n",
            "| 30| 4377|\n",
            "| 31| 4338|\n",
            "| 32| 4093|\n",
            "| 33| 4016|\n",
            "| 34| 3864|\n",
            "| 35| 3807|\n",
            "+---+-----+\n",
            "only showing top 20 rows\n",
            "\n"
          ],
          "name": "stdout"
        }
      ]
    },
    {
      "cell_type": "code",
      "metadata": {
        "id": "mlgRwMb9j_Pn",
        "outputId": "c667a686-542f-49c0-9ce5-e7e74baa1a20",
        "colab": {
          "base_uri": "https://localhost:8080/",
          "height": 221
        }
      },
      "source": [
        "cleanedDataset.filter(\"sex =='M'\").groupBy('year').count().sort(\"year\").show()"
      ],
      "execution_count": null,
      "outputs": [
        {
          "output_type": "stream",
          "text": [
            "+----+-----+\n",
            "|year|count|\n",
            "+----+-----+\n",
            "|2013|    1|\n",
            "|2014|    1|\n",
            "|2015| 6010|\n",
            "|2016|27211|\n",
            "|2017|55265|\n",
            "|2018|80065|\n",
            "|2019|68447|\n",
            "+----+-----+\n",
            "\n"
          ],
          "name": "stdout"
        }
      ]
    },
    {
      "cell_type": "code",
      "metadata": {
        "id": "kxKyYV19kH9x",
        "outputId": "08a3411c-358a-4425-a317-43428879f91d",
        "colab": {
          "base_uri": "https://localhost:8080/",
          "height": 204
        }
      },
      "source": [
        "cleanedDataset.filter(\"sex =='F'\").groupBy('year').count().sort(\"year\").show()"
      ],
      "execution_count": null,
      "outputs": [
        {
          "output_type": "stream",
          "text": [
            "+----+-----+\n",
            "|year|count|\n",
            "+----+-----+\n",
            "|2014|    5|\n",
            "|2015| 4241|\n",
            "|2016|19651|\n",
            "|2017|37748|\n",
            "|2018|53055|\n",
            "|2019|45590|\n",
            "+----+-----+\n",
            "\n"
          ],
          "name": "stdout"
        }
      ]
    },
    {
      "cell_type": "markdown",
      "metadata": {
        "id": "5A4w6rkL37BE"
      },
      "source": [
        "### 9.   More Analysis\n",
        "\n",
        "Through the below steps, I am looking at the statistics on age and changing the format to show 2 decimals. In addions, I am calculating the correlations and covariance between age and year. Lastly, I am identfying the average age female drivers are involved in traffic crashes in the city of Chicago."
      ]
    },
    {
      "cell_type": "code",
      "metadata": {
        "id": "qYIjT5vqk7kd",
        "outputId": "da8c0ecd-e5cf-4c4a-ca93-ebbb086eb97f",
        "colab": {
          "base_uri": "https://localhost:8080/",
          "height": 187
        }
      },
      "source": [
        "result = cleanedDataset.select([\"age\"]).describe()\n",
        "result.show()"
      ],
      "execution_count": null,
      "outputs": [
        {
          "output_type": "stream",
          "text": [
            "+-------+------------------+\n",
            "|summary|               age|\n",
            "+-------+------------------+\n",
            "|  count|            397290|\n",
            "|   mean|40.861501673840266|\n",
            "| stddev|15.343667827654704|\n",
            "|    min|                16|\n",
            "|    max|               110|\n",
            "+-------+------------------+\n",
            "\n"
          ],
          "name": "stdout"
        }
      ]
    },
    {
      "cell_type": "code",
      "metadata": {
        "id": "SuVKjBJOobHa",
        "outputId": "b5930f5d-8878-46d3-d70a-6accb3ad824c",
        "colab": {
          "base_uri": "https://localhost:8080/",
          "height": 187
        }
      },
      "source": [
        "from pyspark.sql.functions import format_number\n",
        "result = cleanedDataset.select([\"age\"]).describe()\n",
        "result.select(result['summary'],\n",
        "              format_number(result['age'].cast('float'),2).alias('age')\n",
        "             ).show()"
      ],
      "execution_count": null,
      "outputs": [
        {
          "output_type": "stream",
          "text": [
            "+-------+----------+\n",
            "|summary|       age|\n",
            "+-------+----------+\n",
            "|  count|397,290.00|\n",
            "|   mean|     40.86|\n",
            "| stddev|     15.34|\n",
            "|    min|     16.00|\n",
            "|    max|    110.00|\n",
            "+-------+----------+\n",
            "\n"
          ],
          "name": "stdout"
        }
      ]
    },
    {
      "cell_type": "code",
      "metadata": {
        "id": "1DRoggeWkyBz",
        "outputId": "8db1ff58-78e2-4a2d-a34e-bcbb4378217e",
        "colab": {
          "base_uri": "https://localhost:8080/",
          "height": 34
        }
      },
      "source": [
        "cleanedDataset.corr('age', 'year')*100"
      ],
      "execution_count": null,
      "outputs": [
        {
          "output_type": "execute_result",
          "data": {
            "text/plain": [
              "0.08428221118781286"
            ]
          },
          "metadata": {
            "tags": []
          },
          "execution_count": 94
        }
      ]
    },
    {
      "cell_type": "code",
      "metadata": {
        "id": "Q3q4pL3SlEhf",
        "outputId": "9862e2e1-6bdc-48fc-aafd-a5a968992f41",
        "colab": {
          "base_uri": "https://localhost:8080/",
          "height": 34
        }
      },
      "source": [
        "cleanedDataset.cov('age', 'year')*100"
      ],
      "execution_count": null,
      "outputs": [
        {
          "output_type": "execute_result",
          "data": {
            "text/plain": [
              "1.3914093298164616"
            ]
          },
          "metadata": {
            "tags": []
          },
          "execution_count": 95
        }
      ]
    },
    {
      "cell_type": "code",
      "metadata": {
        "id": "Q8y3d0wOqrzS",
        "outputId": "d6007121-71f0-4123-938c-3d54e804c0d6",
        "colab": {
          "base_uri": "https://localhost:8080/",
          "height": 442
        }
      },
      "source": [
        "#List of primary driver actions\n",
        "cleanedDataset.select(\"driver_action\").distinct().show()"
      ],
      "execution_count": null,
      "outputs": [
        {
          "output_type": "stream",
          "text": [
            "+--------------------+\n",
            "|       driver_action|\n",
            "+--------------------+\n",
            "|LICENSE RESTRICTIONS|\n",
            "|EVADING POLICE VE...|\n",
            "|CELL PHONE USE OT...|\n",
            "|FOLLOWED TOO CLOSELY|\n",
            "|IMPROPER LANE CHANGE|\n",
            "|    IMPROPER PARKING|\n",
            "|TOO FAST FOR COND...|\n",
            "|             UNKNOWN|\n",
            "|DISREGARDED CONTR...|\n",
            "|       IMPROPER TURN|\n",
            "|    IMPROPER BACKING|\n",
            "|       OVERCORRECTED|\n",
            "|               OTHER|\n",
            "|             TEXTING|\n",
            "|      WRONG WAY/SIDE|\n",
            "|    IMPROPER PASSING|\n",
            "|  STOPPED SCHOOL BUS|\n",
            "|                NONE|\n",
            "|     FAILED TO YIELD|\n",
            "|EMERGENCY VEHICLE...|\n",
            "+--------------------+\n",
            "\n"
          ],
          "name": "stdout"
        }
      ]
    },
    {
      "cell_type": "code",
      "metadata": {
        "id": "T03U_hcpvYTD",
        "outputId": "8bc187ed-791c-4ade-8fac-b6881a609af0",
        "colab": {
          "base_uri": "https://localhost:8080/",
          "height": 34
        }
      },
      "source": [
        "cleanedDataset.filter( (cleanedDataset[\"city\"]=='CHICAGO') & (cleanedDataset[\"sex\"]=='F') ).count()/cleanedDataset.count() * 100"
      ],
      "execution_count": null,
      "outputs": [
        {
          "output_type": "execute_result",
          "data": {
            "text/plain": [
              "29.247149437438647"
            ]
          },
          "metadata": {
            "tags": []
          },
          "execution_count": 97
        }
      ]
    },
    {
      "cell_type": "code",
      "metadata": {
        "id": "7aFfEuqbx7_D",
        "outputId": "6c6fd037-7de5-455b-b315-8cf400e75395",
        "colab": {
          "base_uri": "https://localhost:8080/",
          "height": 119
        }
      },
      "source": [
        "from pyspark.sql.functions import col, avg\n",
        "cleanedDataset.select([\"age\"]).filter( (cleanedDataset[\"city\"]=='CHICAGO') & (cleanedDataset[\"sex\"]=='F') ).agg(avg(col(\"age\"))).show()"
      ],
      "execution_count": null,
      "outputs": [
        {
          "output_type": "stream",
          "text": [
            "+-----------------+\n",
            "|         avg(age)|\n",
            "+-----------------+\n",
            "|40.16679575889015|\n",
            "+-----------------+\n",
            "\n"
          ],
          "name": "stdout"
        }
      ]
    },
    {
      "cell_type": "markdown",
      "metadata": {
        "id": "Isg4kExvVrok"
      },
      "source": [
        "### 9.   Conclusion\n",
        "\n",
        "The analysis has helped to determine that overall male drivers tend to be involved in crashes more than female drivers in the age range between 20 and 40 years old. In addition, it has helped to learn to use Spark API's. Therefore, I am now able to compare PySpark and Pandas and to evaluate the advantages and disadvantages of using one or the other.\n",
        "\n",
        "Advantages and Disadvantages:\n",
        "\n",
        "\n",
        "1.   I found Pandas to be quicker and simplier to learn compared to Pyspark which requires a little more in depth knowledge. When performing the analysis using Pamdas, the codes seemed easier to research and come up with, and more consise and clear, especially when performing routine tasks; whereas, when working with PySpark, I had to attept several times to have one statement to provide the outcome I was looking to attain.\n",
        "2.   In my opinion, Pandas offers a broader set of features that allow you to complete tasks, such as filtering, segmenting and segragating according to certain conditions in a much simplier and more effective manner.  \n",
        "1.   I believe that data viewing in Pandas using the code df. head is more appealing as it displays an array with continuos borders; whereas in PySpark, the code df.head shows an output that is unpleasent. For this reason, I prefer to use the code df.show while doing my analysis with PySpark as it allowed me to view my dataset in a more visually engaging manner.  \n",
        "\n",
        "\n",
        "\n",
        "\n",
        "\n"
      ]
    }
  ]
}